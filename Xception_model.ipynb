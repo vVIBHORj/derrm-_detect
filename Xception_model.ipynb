{
 "cells": [
  {
   "cell_type": "markdown",
   "metadata": {
    "colab_type": "text",
    "id": "view-in-github"
   },
   "source": [
    "<a href=\"https://colab.research.google.com/github/Kaushalsurana/SIH_hackathon/blob/main/Xception_model.ipynb\" target=\"_parent\"><img src=\"https://colab.research.google.com/assets/colab-badge.svg\" alt=\"Open In Colab\"/></a>"
   ]
  },
  {
   "cell_type": "code",
   "execution_count": null,
   "metadata": {
    "colab": {
     "base_uri": "https://localhost:8080/",
     "height": 17
    },
    "id": "96waAXl3uTGY",
    "outputId": "a86aa643-b70a-46ea-b2e1-4fd0e9aaab90"
   },
   "outputs": [],
   "source": [
    "from IPython.display import Javascript\n",
    "\n",
    "def disable_colab_idle_timeout():\n",
    "    js_code = '''\n",
    "    function ClickConnect(){\n",
    "        console.log(\"Working\");\n",
    "        document.querySelector(\"colab-toolbar-button#connect\").click()\n",
    "    }\n",
    "    setInterval(ClickConnect,60000)\n",
    "    '''\n",
    "    display(Javascript(js_code))\n",
    "\n",
    "disable_colab_idle_timeout()"
   ]
  },
  {
   "cell_type": "code",
   "execution_count": null,
   "metadata": {
    "colab": {
     "base_uri": "https://localhost:8080/"
    },
    "id": "wrLuB2j-zmLJ",
    "outputId": "f24e365d-2741-4fbb-b244-f7f33747cd4f"
   },
   "outputs": [],
   "source": [
    "!pip install opendatasets\n",
    "!pip install pandas\n",
    "import opendatasets as od\n",
    "import pandas\n",
    "\n",
    "# od.download(\"https://www.kaggle.com/datasets/ascanipek/skin-diseases\")"
   ]
  },
  {
   "cell_type": "code",
   "execution_count": null,
   "metadata": {
    "id": "F74M3rJEz9il"
   },
   "outputs": [],
   "source": [
    "# from keras.layers import Input, Lambda, Dense, Flatten\n",
    "# from keras.models import Model\n",
    "# from keras.applications.vgg16 import VGG16\n",
    "# from keras.applications.vgg16 import preprocess_input\n",
    "# from keras.preprocessing import image\n",
    "# from keras.preprocessing.image import ImageDataGenerator\n",
    "# from keras.models import Sequential\n",
    "# import numpy as np\n",
    "# from glob import glob\n",
    "# import matplotlib.pyplot as plt\n",
    "\n",
    "# # re-size all the images to this\n",
    "# IMAGE_SIZE = [224, 224]\n",
    "\n",
    "\n",
    "\n",
    "from tensorflow.keras.layers import Input, Lambda, Dense, Flatten\n",
    "from tensorflow.keras.models import Model\n",
    "from tensorflow.keras.applications.vgg16 import VGG16\n",
    "from tensorflow.keras.applications.vgg16 import preprocess_input\n",
    "from tensorflow.keras.preprocessing import image\n",
    "from tensorflow.keras.preprocessing.image import ImageDataGenerator\n",
    "from tensorflow.keras.models import Sequential\n",
    "import numpy as np\n",
    "from glob import glob\n",
    "import matplotlib.pyplot as plt\n",
    "\n",
    "# re-size all the images to this\n",
    "IMAGE_SIZE = [224, 224]\n"
   ]
  },
  {
   "cell_type": "code",
   "execution_count": null,
   "metadata": {
    "id": "3vKHpmzA1McC"
   },
   "outputs": [],
   "source": [
    "train = r\"C:\\Users\\vibhor\\Desktop\\datastes\\kaggle\\train\"\n",
    "test = r\"C:\\Users\\vibhor\\Desktop\\datastes\\kaggle\\test\"\n",
    "val = r\"C:\\Users\\vibhor\\Desktop\\datastes\\kaggle\\val\""
   ]
  },
  {
   "cell_type": "code",
   "execution_count": null,
   "metadata": {
    "id": "Z4edlj3N1Qs9"
   },
   "outputs": [],
   "source": [
    "from tensorflow.keras.applications.xception import Xception\n",
    "ress = Xception(input_shape=IMAGE_SIZE + [3], weights='imagenet', include_top=False)\n",
    "\n",
    "#for layer in ress.layers:\n",
    "  #layer.trainable = False"
   ]
  },
  {
   "cell_type": "code",
   "execution_count": null,
   "metadata": {
    "colab": {
     "base_uri": "https://localhost:8080/"
    },
    "id": "Vlm_CVLb1SXn",
    "outputId": "e5229c9b-0e36-4b10-fd44-e9934f95266d"
   },
   "outputs": [],
   "source": [
    "folders = glob(r\"C:\\Users\\vibhor\\Desktop\\datastes\\kaggle\\train\\*\")\n",
    "len(folders)"
   ]
  },
  {
   "cell_type": "code",
   "execution_count": null,
   "metadata": {
    "colab": {
     "base_uri": "https://localhost:8080/"
    },
    "id": "TFZlKwam1VtC",
    "outputId": "db17373a-680a-4245-d3de-5c53ada70f33"
   },
   "outputs": [],
   "source": [
    "import tensorflow as tf\n",
    " # useful for getting number of classes\n",
    "\n",
    "x = Flatten()(ress.output)\n",
    "# x = Dense(1000, activation='relu')(x)\n",
    "prediction = Dense(len(folders), activation='softmax')(x)\n",
    "\n",
    "# create a model object\n",
    "model = Model(inputs=ress.input, outputs=prediction)\n",
    "\n",
    "# view the structure of the model\n",
    "model.summary()\n",
    "\n",
    "# tell the model what cost and optimization method to use\n",
    "model.compile(optimizer=tf.keras.optimizers.SGD(learning_rate=0.0007,momentum=0.9),\n",
    "  loss='categorical_crossentropy',\n",
    "  metrics=['accuracy']\n",
    ")"
   ]
  },
  {
   "cell_type": "code",
   "execution_count": null,
   "metadata": {
    "colab": {
     "base_uri": "https://localhost:8080/"
    },
    "id": "YcLlFYA01XXH",
    "outputId": "84734cf8-897f-43f8-d9ce-bce5793d591b"
   },
   "outputs": [],
   "source": [
    "# from keras.preprocessing.image import ImageDataGenerator\n",
    "\n",
    "# train_datagen = ImageDataGenerator(rescale = 1./255,\n",
    "#                                    shear_range = 0.2,\n",
    "#                                    zoom_range = 0.2,\n",
    "#                                    horizontal_flip = True)\n",
    "\n",
    "# test_datagen = ImageDataGenerator(rescale = 1./255)\n",
    "\n",
    "# training_set = train_datagen.flow_from_directory('/content/skin-diseases/kaggle/train',\n",
    "#                                                  target_size = (224, 224),\n",
    "#                                                  batch_size = 32,\n",
    "#                                                  class_mode = 'categorical')\n",
    "\n",
    "# test_set = test_datagen.flow_from_directory('/content/skin-diseases/kaggle/test',\n",
    "#                                             target_size = (224, 224),\n",
    "#                                             batch_size = 32,\n",
    "#                                             class_mode = 'categorical')\n",
    "\n",
    "\n",
    "\n",
    "\n",
    "\n",
    "\n",
    "\n",
    "\n",
    "\n",
    "\n",
    "\n",
    "from tensorflow.keras.preprocessing.image import ImageDataGenerator\n",
    "\n",
    "# Initialize the ImageDataGenerator for training and testing sets\n",
    "train_datagen = ImageDataGenerator(rescale=1.0/255,\n",
    "                                   shear_range=0.2,\n",
    "                                   zoom_range=0.2,\n",
    "                                   horizontal_flip=True)\n",
    "\n",
    "test_datagen = ImageDataGenerator(rescale=1.0/255)\n",
    "\n",
    "# Update the dataset paths to your local paths\n",
    "training_set = train_datagen.flow_from_directory(r\"C:\\Users\\vibhor\\Desktop\\datastes\\kaggle\\train\",\n",
    "                                                 target_size=(224, 224),\n",
    "                                                 batch_size=32,\n",
    "                                                 class_mode='categorical')\n",
    "\n",
    "test_set = test_datagen.flow_from_directory(r\"C:\\Users\\vibhor\\Desktop\\datastes\\kaggle\\test\",\n",
    "                                            target_size=(224, 224),\n",
    "                                            batch_size=32,\n",
    "                                            class_mode='categorical')\n"
   ]
  },
  {
   "cell_type": "code",
   "execution_count": null,
   "metadata": {
    "id": "ojvpv6nH1ea2"
   },
   "outputs": [],
   "source": [
    "from tensorflow.keras.callbacks import EarlyStopping, ModelCheckpoint\n",
    "\n",
    "early = EarlyStopping(monitor='val_accuracy', min_delta=0, patience=5, verbose=1, mode='auto', restore_best_weights=True)\n",
    "model_checkpoint = ModelCheckpoint('skin_disease_model.keras', save_best_only=True)\n",
    "\n"
   ]
  },
  {
   "cell_type": "code",
   "execution_count": null,
   "metadata": {
    "colab": {
     "base_uri": "https://localhost:8080/"
    },
    "id": "Ll7tAnXe1g9R",
    "outputId": "5b98e9b0-9626-4573-bc44-03da3969a86b"
   },
   "outputs": [],
   "source": [
    "r = model.fit(\n",
    "    training_set,\n",
    "    validation_data=test_set,\n",
    "    epochs=25,\n",
    "    steps_per_epoch=len(training_set),\n",
    "    validation_steps=len(test_set),\n",
    "    callbacks=[early, model_checkpoint]\n",
    ")\n"
   ]
  },
  {
   "cell_type": "code",
   "execution_count": null,
   "metadata": {
    "id": "Jw5r2w142Pjn"
   },
   "outputs": [],
   "source": [
    "model.save('final_skin_disease_model.h5')"
   ]
  },
  {
   "cell_type": "code",
   "execution_count": null,
   "metadata": {
    "colab": {
     "base_uri": "https://localhost:8080/",
     "height": 860
    },
    "id": "Q-alJOuUBmbO",
    "outputId": "ed7e1d53-a702-4556-c7ee-0fb639eb11dc"
   },
   "outputs": [],
   "source": [
    "import matplotlib.pyplot as plt\n",
    "\n",
    "# plot the loss\n",
    "plt.plot(r.history['loss'], label='train loss')\n",
    "plt.plot(r.history['val_loss'], label='val loss')\n",
    "plt.legend()\n",
    "plt.show()\n",
    "plt.savefig('LossVal_loss')\n",
    "\n",
    "# plot the accuracy\n",
    "plt.plot(r.history['accuracy'], label='train acc')\n",
    "plt.plot(r.history['val_accuracy'], label='val acc')\n",
    "plt.legend()\n",
    "plt.show()\n",
    "plt.savefig('AccVal_acc')"
   ]
  },
  {
   "cell_type": "code",
   "execution_count": null,
   "metadata": {
    "colab": {
     "base_uri": "https://localhost:8080/",
     "height": 458
    },
    "id": "dUmjdh1RDHUl",
    "outputId": "d4b52f22-5523-4da6-e0ee-fc256b9c2855"
   },
   "outputs": [],
   "source": [
    "from tensorflow.keras.models import load_model\n",
    "\n",
    "# Load the saved model\n",
    "loaded_model = load_model('final_skin_disease_model.h5')\n",
    "\n",
    "from keras.preprocessing import image\n",
    "import numpy as np\n",
    "\n",
    "# Load and preprocess the test image\n",
    "\n",
    "test_image = image.load_img('/content/skin-diseases/kaggle/test/1. Enfeksiyonel/3_56.jpg', target_size=(224, 224))\n",
    "test_image = image.img_to_array(test_image)\n",
    "test_image = np.expand_dims(test_image, axis=0)\n",
    "\n",
    "# Make predictions using the loaded model\n",
    "predictions =loaded_model.predict(test_image)\n",
    "print(predictions)\n",
    "# Get the index of the predicted class\n",
    "predicted_class_index = np.argmax(predictions)\n",
    "\n",
    "# Print the predicted class index\n",
    "print(\"Predicted Class Index:\", predicted_class_index)\n",
    "img = image.load_img('/content/skin-diseases/kaggle/test/1. Enfeksiyonel/3_56.jpg', target_size=(224, 224))\n",
    "plt.imshow(img)\n",
    "plt.axis('off')\n",
    "plt.show()\n"
   ]
  },
  {
   "cell_type": "code",
   "execution_count": null,
   "metadata": {
    "id": "Z3aSq8i0EkH2"
   },
   "outputs": [],
   "source": []
  }
 ],
 "metadata": {
  "accelerator": "GPU",
  "colab": {
   "authorship_tag": "ABX9TyM49qtzWythwchYEVHLodle",
   "gpuType": "T4",
   "include_colab_link": true,
   "provenance": []
  },
  "kernelspec": {
   "display_name": "Python 3",
   "name": "python3"
  },
  "language_info": {
   "codemirror_mode": {
    "name": "ipython",
    "version": 3
   },
   "file_extension": ".py",
   "mimetype": "text/x-python",
   "name": "python",
   "nbconvert_exporter": "python",
   "pygments_lexer": "ipython3",
   "version": "3.12.4"
  }
 },
 "nbformat": 4,
 "nbformat_minor": 0
}
